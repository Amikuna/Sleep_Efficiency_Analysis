{
 "cells": [
  {
   "cell_type": "code",
   "execution_count": null,
   "id": "de77a521",
   "metadata": {},
   "outputs": [],
   "source": [
    "import pandas as pd\n",
    "import seaborn as sns\n",
    "import numpy as np\n",
    "import matplotlib\n",
    "import matplotlib.pyplot as plt\n",
    "plt.style.use(\"ggplot\")\n",
    "\n",
    "matplotlib.rcParams[\"figure.figsize\"] = (12,8)"
   ]
  },
  {
   "cell_type": "code",
   "execution_count": null,
   "id": "0fe607cc",
   "metadata": {},
   "outputs": [],
   "source": [
    "df = pd.read_csv(\"Sleep_Efficiency.csv\")"
   ]
  },
  {
   "cell_type": "code",
   "execution_count": null,
   "id": "971929eb",
   "metadata": {},
   "outputs": [],
   "source": [
    "df.head(50)"
   ]
  },
  {
   "cell_type": "code",
   "execution_count": null,
   "id": "5d956497",
   "metadata": {},
   "outputs": [],
   "source": [
    "for col in df.columns:\n",
    "    missing = np.mean(df[col].isnull())\n",
    "    print(f\"{col} - {round(missing,2)}%\")"
   ]
  },
  {
   "cell_type": "code",
   "execution_count": null,
   "id": "9ee93e1c",
   "metadata": {},
   "outputs": [],
   "source": [
    "\"\"\"\n",
    "since we don't have many missing values we can drop rows with a missing values and it shouldn't affect\n",
    "our analysis\n",
    "\"\"\"\n",
    "df = df.dropna()"
   ]
  },
  {
   "cell_type": "code",
   "execution_count": null,
   "id": "b75453ec",
   "metadata": {},
   "outputs": [],
   "source": [
    "#remove duplicates if exists\n",
    "print(f\"before: {len(df['ID'])}\")\n",
    "df = df.drop_duplicates()\n",
    "print(f\"after: {len(df['ID'])}\")"
   ]
  },
  {
   "cell_type": "code",
   "execution_count": null,
   "id": "88547d1d",
   "metadata": {},
   "outputs": [],
   "source": [
    "df.dtypes"
   ]
  },
  {
   "cell_type": "code",
   "execution_count": null,
   "id": "b584e3df",
   "metadata": {},
   "outputs": [],
   "source": [
    "#remove convert float numbers into int where necessary\n",
    "df[\"Awakenings\"] = df[\"Awakenings\"].astype(\"int64\")\n",
    "df[\"Caffeine consumption\"] = df[\"Caffeine consumption\"].astype(\"int64\")\n",
    "df[\"Alcohol consumption\"] = df[\"Alcohol consumption\"].astype(\"int64\")\n",
    "df[\"Exercise frequency\"] = df[\"Exercise frequency\"].astype(\"int64\")"
   ]
  },
  {
   "cell_type": "code",
   "execution_count": null,
   "id": "68be7634",
   "metadata": {},
   "outputs": [],
   "source": [
    "df"
   ]
  },
  {
   "cell_type": "code",
   "execution_count": null,
   "id": "217b6e22",
   "metadata": {},
   "outputs": [],
   "source": [
    "#do females sleep more efficiently than males?\n",
    "gender = df.groupby(\"Gender\")[\"Sleep efficiency\"].mean()\n",
    "gender"
   ]
  },
  {
   "cell_type": "code",
   "execution_count": null,
   "id": "d181281c",
   "metadata": {},
   "outputs": [],
   "source": [
    "gender = gender.to_frame(name='Efficiency')\n",
    "gender"
   ]
  },
  {
   "cell_type": "code",
   "execution_count": null,
   "id": "de532ddc",
   "metadata": {},
   "outputs": [],
   "source": [
    "gender = gender.reset_index()\n",
    "gender"
   ]
  },
  {
   "cell_type": "code",
   "execution_count": null,
   "id": "315de404",
   "metadata": {},
   "outputs": [],
   "source": [
    "# print(f\"{gender['Gender']}, Male: {round(gender['Efficiency'],2)}\")\n",
    "sns.barplot(x=gender[\"Gender\"],y=gender['Efficiency'], color='red')\n",
    "# plt.bar(['Female','Male'],gender,color='red')"
   ]
  },
  {
   "cell_type": "code",
   "execution_count": null,
   "id": "94c7611c",
   "metadata": {},
   "outputs": [],
   "source": [
    "#sleep efficiency by age\n",
    "age = df.groupby([\"Age\"])[\"Sleep efficiency\"].mean()\n",
    "age = age.to_frame()\n",
    "age = age.reset_index()\n",
    "age = age.sort_values('Sleep efficiency')\n",
    "\n",
    "plt.xticks(rotation=90)\n",
    "sns.barplot(x='Age', y='Sleep efficiency', data=age, order=age.sort_values('Sleep efficiency').Age, color=\"red\")\n"
   ]
  },
  {
   "cell_type": "code",
   "execution_count": null,
   "id": "a4dc3b39",
   "metadata": {},
   "outputs": [],
   "source": [
    "#smoking effect on sleeping quality\n",
    "smk = df.groupby([\"Smoking status\"])[\"Sleep efficiency\"].mean()\n",
    "smk"
   ]
  },
  {
   "cell_type": "code",
   "execution_count": null,
   "id": "83585940",
   "metadata": {},
   "outputs": [],
   "source": [
    "smk = smk.to_frame()\n",
    "smk = smk.reset_index()\n",
    "#we could say it has, but it isn't effect that we expected!\n",
    "sns.barplot(x='Smoking status',y='Sleep efficiency', data=smk, color='red')"
   ]
  },
  {
   "cell_type": "code",
   "execution_count": null,
   "id": "3ca516af",
   "metadata": {},
   "outputs": [],
   "source": [
    "#does amount of deep sleep have any effect on sleep efficiency?\n",
    "plt.scatter(x=df[\"Deep sleep percentage\"], y=df[\"Sleep efficiency\"], color='red')\n",
    "plt.show()"
   ]
  },
  {
   "cell_type": "code",
   "execution_count": null,
   "id": "3f71faa9",
   "metadata": {},
   "outputs": [],
   "source": [
    "sns.regplot(x='Deep sleep percentage', y=\"Sleep efficiency\", data=df, scatter_kws={\"color\":\"red\"}, line_kws={\"color\":\"blue\"})"
   ]
  },
  {
   "cell_type": "code",
   "execution_count": null,
   "id": "1aa4dd1e",
   "metadata": {},
   "outputs": [],
   "source": [
    "#now let see correlations to find the best variable that affects sleeping quality\n",
    "df.corr()"
   ]
  },
  {
   "cell_type": "code",
   "execution_count": null,
   "id": "ab644148",
   "metadata": {},
   "outputs": [],
   "source": [
    "#use heatmap for better understanding\n",
    "correlation = df.corr()\n",
    "plt.title(\"Correlation Metrics\")\n",
    "sns.heatmap(correlation, annot=True)"
   ]
  },
  {
   "cell_type": "code",
   "execution_count": null,
   "id": "4199115a",
   "metadata": {},
   "outputs": [],
   "source": [
    "\"\"\"\n",
    "As we can see, deep sleep percentage highly correlate to the sleep efficiency,\n",
    "while age, gender and smoking doesn't have any measurable effect!\n",
    "On the other hand if we look at the heatmap we will see that alcohol consumption has some kind of effect\n",
    "on the light sleep percentage\n",
    "\"\"\""
   ]
  }
 ],
 "metadata": {
  "kernelspec": {
   "display_name": "Python 3 (ipykernel)",
   "language": "python",
   "name": "python3"
  },
  "language_info": {
   "codemirror_mode": {
    "name": "ipython",
    "version": 3
   },
   "file_extension": ".py",
   "mimetype": "text/x-python",
   "name": "python",
   "nbconvert_exporter": "python",
   "pygments_lexer": "ipython3",
   "version": "3.9.7"
  }
 },
 "nbformat": 4,
 "nbformat_minor": 5
}
